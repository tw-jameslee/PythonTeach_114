{
  "nbformat": 4,
  "nbformat_minor": 0,
  "metadata": {
    "colab": {
      "provenance": [],
      "authorship_tag": "ABX9TyPPdN3aZyJzm7b+fgmhhEqh",
      "include_colab_link": true
    },
    "kernelspec": {
      "name": "python3",
      "display_name": "Python 3"
    },
    "language_info": {
      "name": "python"
    }
  },
  "cells": [
    {
      "cell_type": "markdown",
      "metadata": {
        "id": "view-in-github",
        "colab_type": "text"
      },
      "source": [
        "<a href=\"https://colab.research.google.com/github/tw-jameslee/PythonTeach_114/blob/main/%E4%BB%8A%E5%A4%A9%E4%B8%8A%E8%AA%B2%E7%A8%8B%E5%BC%8F2025_10_01.ipynb\" target=\"_parent\"><img src=\"https://colab.research.google.com/assets/colab-badge.svg\" alt=\"Open In Colab\"/></a>"
      ]
    },
    {
      "cell_type": "markdown",
      "source": [
        "# 📅上課日期：2025/10/01"
      ],
      "metadata": {
        "id": "BUxsZTWJTjaR"
      }
    },
    {
      "cell_type": "code",
      "source": [
        "# a = 12\n",
        "# b = 'hello'\n",
        "# c = 'aa\"aabbbccccdd\\'ddeeee'\n",
        "# d='1.xxxxx\\n2.yyyyy\\n3.zzzzz'   # '\\n' --> new line\n",
        "# f='C:\\\\Program Files\\\\Adobe\\\\....'\n",
        "# # print(f)\n",
        "\n",
        "\n",
        "# #用連續3個雙(單)引號再跳脫符號(\\)就可以表示多行字串了\n",
        "# g=\"\"\"\\\n",
        "# 1.xxxxxxxxxxxxxxxx\n",
        "# 2.yyyyyyy\n",
        "# 3.zzzzzzzz\\\n",
        "# \"\"\"\n",
        "# print(g)\n",
        "\n",
        "# 成績 = 99\n",
        "# s = f\"我的成績是{成績-10}分\"  # f-string\n",
        "# print(s)\n",
        "\n",
        "age = 12\n",
        "money = 2000000\n",
        "print(age<=20)\n",
        "print(money>=10000000)\n",
        "\n",
        "ok = (age<=20) or (money>=10000000)\n",
        "print(not 1==2)"
      ],
      "metadata": {
        "id": "vGUJFk74TbBB",
        "colab": {
          "base_uri": "https://localhost:8080/"
        },
        "outputId": "175f8330-58d0-41cd-c861-1f862879723a"
      },
      "execution_count": 36,
      "outputs": [
        {
          "output_type": "stream",
          "name": "stdout",
          "text": [
            "True\n"
          ]
        }
      ]
    },
    {
      "cell_type": "code",
      "source": [
        "x = \"   這是包含前後空白的字串   \"\n",
        "print(f\"原始字串: '{x}'\")\n",
        "\n",
        "xx = x.strip()\n",
        "print(f\"去除空白後的字串: '{xx}'\")\n",
        "\n",
        "x = \"this is a book!@#$@!\"\n",
        "xx = x.title()\n",
        "print(f\"轉換後的字串: '{xx}'\")"
      ],
      "metadata": {
        "id": "stSSFixnTY7w",
        "colab": {
          "base_uri": "https://localhost:8080/"
        },
        "outputId": "42412ccc-1c2a-417a-91ee-e09798b71c52"
      },
      "execution_count": 42,
      "outputs": [
        {
          "output_type": "stream",
          "name": "stdout",
          "text": [
            "轉換後的字串: 'This Is A Book!@#$@!'\n"
          ]
        }
      ]
    },
    {
      "cell_type": "code",
      "source": [
        "# # int()轉換資料型別的函數,轉成「整數」\n",
        "# x = int(input('請輸入一個數字：'))    # --> 使用者輸入的資料一律都會儲存為「文字」格式\n",
        "\n",
        "# print(x**2)\n",
        "\n",
        "name = input('請輸入你的姓名：')\n",
        "age = int(input('你幾歲？'))\n",
        "\n",
        "# 利用 f-string 來處理字串中的變數\n",
        "result = f'你叫{name}，你現在{age-1}歲'\n",
        "\n",
        "print(result)"
      ],
      "metadata": {
        "id": "vNUDPsHfVSvI",
        "colab": {
          "base_uri": "https://localhost:8080/"
        },
        "outputId": "b3b4d4d8-f3ee-421d-bd81-6d6e3334235b"
      },
      "execution_count": 46,
      "outputs": [
        {
          "output_type": "stream",
          "name": "stdout",
          "text": [
            "請輸入你的姓名：李大仁\n",
            "你幾歲？20\n",
            "你叫李大仁，你現在19歲\n"
          ]
        }
      ]
    },
    {
      "cell_type": "code",
      "source": [
        "# print( round(25.5) )  # 四捨六入五成單\n",
        "\n",
        "# l = len('李大仁')   # len() 用來計算字串的長度\n",
        "# print(l)\n",
        "\n",
        "# s = 'askdfhksahfdsdfksdfuhklsadfsfdsdfdffsdafsd'\n",
        "# print(   len(s)   )\n",
        "\n",
        "for i in range(1, 10+1):\n",
        "  print(i)\n",
        "\n"
      ],
      "metadata": {
        "id": "3ausItMgVUO4",
        "colab": {
          "base_uri": "https://localhost:8080/"
        },
        "outputId": "46cdf083-173b-4c04-e0c1-a1a2c90d293a"
      },
      "execution_count": 71,
      "outputs": [
        {
          "output_type": "stream",
          "name": "stdout",
          "text": [
            "1\n",
            "2\n",
            "3\n",
            "4\n",
            "5\n",
            "6\n",
            "7\n",
            "8\n",
            "9\n",
            "10\n"
          ]
        }
      ]
    },
    {
      "cell_type": "code",
      "source": [
        "# print(1)\n",
        "# print(2)\n",
        "# print(3)\n",
        "# print(4)\n",
        "# print(5)\n",
        "# Ctrl + /  註解程式碼\n",
        "\n",
        "\n",
        "# for迴圈的使用\n",
        "for j in [1,3,5,8]:\n",
        "  print(j**2)\n",
        "\n",
        "for x in range(0,4):   # 相當於是 for x in [0,1,2,3]:\n",
        "  print(x)\n",
        "\n",
        "for i in range(1,5+1,2):\n",
        "  print(i)\n",
        "  print('-----')\n",
        "\n",
        "print('*******************')\n",
        "\n",
        "for x in range(5,1-1,-2):\n",
        "  print(x)\n",
        "print('-----')\n",
        "\n"
      ],
      "metadata": {
        "id": "lxP26L2ZVMMJ",
        "colab": {
          "base_uri": "https://localhost:8080/"
        },
        "outputId": "aaa8d679-308e-4638-bf00-71c5eb73e34c"
      },
      "execution_count": 76,
      "outputs": [
        {
          "output_type": "stream",
          "name": "stdout",
          "text": [
            "1\n",
            "-----\n",
            "3\n",
            "-----\n",
            "5\n",
            "-----\n",
            "*******************\n",
            "5\n",
            "3\n",
            "1\n",
            "-----\n",
            "1\n",
            "9\n",
            "25\n",
            "64\n"
          ]
        }
      ]
    },
    {
      "cell_type": "code",
      "source": [
        "a = [11,22,33,44,55]\n",
        "print(a[0],a[2],a[4])\n",
        "\n",
        "b = '李大仁是一個大帥哥'  # <= ['李','大','仁','是','一','個','大','帥','哥']\n",
        "print(b[0],b[3],b[-1],b[2:-2])"
      ],
      "metadata": {
        "id": "Z_7kWO2TVW5Y",
        "colab": {
          "base_uri": "https://localhost:8080/"
        },
        "outputId": "a6564a43-a529-4f8e-c145-127056b95556"
      },
      "execution_count": 79,
      "outputs": [
        {
          "output_type": "stream",
          "name": "stdout",
          "text": [
            "11 33 55\n",
            "李 是 哥 仁是一個大\n"
          ]
        }
      ]
    },
    {
      "cell_type": "code",
      "source": [
        "print(123,111,222, sep=\"\\n\", end=\"#\\n\")\n",
        "print(456)"
      ],
      "metadata": {
        "colab": {
          "base_uri": "https://localhost:8080/"
        },
        "id": "z0HnDFWvvFtD",
        "outputId": "52b3837f-01e1-42af-868e-37e33d8f3b49"
      },
      "execution_count": 90,
      "outputs": [
        {
          "output_type": "stream",
          "name": "stdout",
          "text": [
            "123\n",
            "111\n",
            "222#\n",
            "456\n"
          ]
        }
      ]
    },
    {
      "cell_type": "code",
      "source": [
        "# 印出資料的分隔參數sep設定\n",
        "# print('aaaaa', 'bbbbb', 'ccccc', sep=' --> ')\n",
        "# print('a','b','c','d', sep='\\t')  # 以「Tab字元」分隔\n",
        "# print('aaa','bb','ccccc','dd', sep='\\t')\n",
        "# print('x','y','z', sep='\\n')      # 以「換行字元」分隔\n",
        "\n",
        "print('aaaaa')  # 相當於 print('aaaaa', end='\\n')\n",
        "print('bbbbb','cccccc', end=' ')  #印完 bbbbb cccccc 之後不換行，只空一個空格\n",
        "print('ccccc', end=' ')\n",
        "print('ddddd')\n",
        "print('eeeee')"
      ],
      "metadata": {
        "colab": {
          "base_uri": "https://localhost:8080/"
        },
        "id": "kwrvyyz_w2Yh",
        "outputId": "49771d7c-6d32-46e5-e83f-d3da3b899866"
      },
      "execution_count": 91,
      "outputs": [
        {
          "output_type": "stream",
          "name": "stdout",
          "text": [
            "aaaaa\n",
            "bbbbb cccccc ccccc ddddd\n",
            "eeeee\n"
          ]
        }
      ]
    },
    {
      "cell_type": "code",
      "source": [
        "for i in range(1,9+1):\n",
        "  # print(f'i={i}', end=' --> ')\n",
        "\n",
        "  for j in range(1,i+1):\n",
        "    print(\"*\", end='')\n",
        "\n",
        "  print('') # 因為上面print()都不換行，這裡要換行"
      ],
      "metadata": {
        "colab": {
          "base_uri": "https://localhost:8080/"
        },
        "id": "GB3sMTJ3xXnY",
        "outputId": "233e8dc4-5e17-45f1-fe3e-6261c3bca044"
      },
      "execution_count": 92,
      "outputs": [
        {
          "output_type": "stream",
          "name": "stdout",
          "text": [
            "*\n",
            "**\n",
            "***\n",
            "****\n",
            "*****\n",
            "******\n",
            "*******\n",
            "********\n",
            "*********\n"
          ]
        }
      ]
    },
    {
      "cell_type": "code",
      "source": [
        "n = int(input('請輸入一個整數：'))\n",
        "\n",
        "for i in range(1,n+1):\n",
        "  s = '*' * i\n",
        "  print(s)"
      ],
      "metadata": {
        "colab": {
          "base_uri": "https://localhost:8080/"
        },
        "id": "DNzw1RAExce_",
        "outputId": "f9037cdc-a268-4f0d-b1bc-962377aad3ad"
      },
      "execution_count": 93,
      "outputs": [
        {
          "output_type": "stream",
          "name": "stdout",
          "text": [
            "請輸入一個整數：5\n",
            "*\n",
            "**\n",
            "***\n",
            "****\n",
            "*****\n"
          ]
        }
      ]
    },
    {
      "cell_type": "code",
      "source": [
        "n = int(input('請輸入一個整數：'))\n",
        "\n",
        "for i in range(1,n+1):\n",
        "  p = ' ' * (n-i)\n",
        "  s = '*' * i\n",
        "  t = p + s\n",
        "  print(t)"
      ],
      "metadata": {
        "colab": {
          "base_uri": "https://localhost:8080/"
        },
        "id": "YrWzoya1xfpf",
        "outputId": "363cf40e-0aae-4089-e752-44ff7ac6a838"
      },
      "execution_count": 95,
      "outputs": [
        {
          "output_type": "stream",
          "name": "stdout",
          "text": [
            "請輸入一個整數：5\n",
            "    *\n",
            "   **\n",
            "  ***\n",
            " ****\n",
            "*****\n"
          ]
        }
      ]
    },
    {
      "cell_type": "code",
      "source": [
        "for i in range(1,9+1):\n",
        "  # print(f'i={i}', end=' --> ')\n",
        "\n",
        "  for j in range(1,9+1):\n",
        "    print(f'{j}*{i}={j*i}', end='\\t')\n",
        "\n",
        "  print('')"
      ],
      "metadata": {
        "colab": {
          "base_uri": "https://localhost:8080/"
        },
        "id": "I_AtLV0Axkq8",
        "outputId": "9238e3e1-fea4-48f8-e06e-2dadd7d92b4d"
      },
      "execution_count": 96,
      "outputs": [
        {
          "output_type": "stream",
          "name": "stdout",
          "text": [
            "1*1=1\t2*1=2\t3*1=3\t4*1=4\t5*1=5\t6*1=6\t7*1=7\t8*1=8\t9*1=9\t\n",
            "1*2=2\t2*2=4\t3*2=6\t4*2=8\t5*2=10\t6*2=12\t7*2=14\t8*2=16\t9*2=18\t\n",
            "1*3=3\t2*3=6\t3*3=9\t4*3=12\t5*3=15\t6*3=18\t7*3=21\t8*3=24\t9*3=27\t\n",
            "1*4=4\t2*4=8\t3*4=12\t4*4=16\t5*4=20\t6*4=24\t7*4=28\t8*4=32\t9*4=36\t\n",
            "1*5=5\t2*5=10\t3*5=15\t4*5=20\t5*5=25\t6*5=30\t7*5=35\t8*5=40\t9*5=45\t\n",
            "1*6=6\t2*6=12\t3*6=18\t4*6=24\t5*6=30\t6*6=36\t7*6=42\t8*6=48\t9*6=54\t\n",
            "1*7=7\t2*7=14\t3*7=21\t4*7=28\t5*7=35\t6*7=42\t7*7=49\t8*7=56\t9*7=63\t\n",
            "1*8=8\t2*8=16\t3*8=24\t4*8=32\t5*8=40\t6*8=48\t7*8=56\t8*8=64\t9*8=72\t\n",
            "1*9=9\t2*9=18\t3*9=27\t4*9=36\t5*9=45\t6*9=54\t7*9=63\t8*9=72\t9*9=81\t\n"
          ]
        }
      ]
    }
  ]
}