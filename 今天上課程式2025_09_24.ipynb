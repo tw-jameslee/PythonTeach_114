{
  "nbformat": 4,
  "nbformat_minor": 0,
  "metadata": {
    "colab": {
      "provenance": [],
      "authorship_tag": "ABX9TyMiV5cy3uypjTLqBfVBAuGn",
      "include_colab_link": true
    },
    "kernelspec": {
      "name": "python3",
      "display_name": "Python 3"
    },
    "language_info": {
      "name": "python"
    }
  },
  "cells": [
    {
      "cell_type": "markdown",
      "metadata": {
        "id": "view-in-github",
        "colab_type": "text"
      },
      "source": [
        "<a href=\"https://colab.research.google.com/github/tw-jameslee/PythonTeach_114/blob/main/%E4%BB%8A%E5%A4%A9%E4%B8%8A%E8%AA%B2%E7%A8%8B%E5%BC%8F2025_09_24.ipynb\" target=\"_parent\"><img src=\"https://colab.research.google.com/assets/colab-badge.svg\" alt=\"Open In Colab\"/></a>"
      ]
    },
    {
      "cell_type": "markdown",
      "source": [
        "# 📅上課日期：2025/09/24"
      ],
      "metadata": {
        "id": "BUxsZTWJTjaR"
      }
    },
    {
      "cell_type": "code",
      "source": [
        "# x = type(10)    # int  --> integer 整數\n",
        "# y = type('10')  # str  --> string 字串\n",
        "# z = type(True)  # bool --> boolean 布林值（真假）\n",
        "# f = type(1.3)   # float --> 浮點數（實數）\n",
        "# l = type( (1,2,3) )\n",
        "# ll = type(['aa','bbb','李大仁','0933-123456'])\n",
        "\n",
        "# print( x )\n",
        "# print( y )\n",
        "# print( z )\n",
        "# print( f )\n",
        "# print(l, ll)\n",
        "\n",
        "# d = {\n",
        "#       '319999':'小龍女',\n",
        "#       '319001':'李大仁',\n",
        "#       'book':'書',\n",
        "#       'iPhone17': 40000\n",
        "#     }\n",
        "# print(d['319001']   )\n",
        "# print(d['book'])\n",
        "# print(d['iPhone17'])\n",
        "\n",
        "stus = {\n",
        "          1: { '姓名':'李一仁', '年齡': 11, '電話': '0911-111111'},\n",
        "          4: { '姓名':'李四仁', '年齡': 14, '電話': '0944-444444'},\n",
        "          3: { '姓名':'李三仁', '年齡': 13, '電話': '0933-333333'},\n",
        "          2: { '姓名':'李二仁', '年齡': 12, '電話': '0922-222222'},\n",
        "        }\n",
        "\n",
        "print( stus[3]['電話'] )"
      ],
      "metadata": {
        "colab": {
          "base_uri": "https://localhost:8080/"
        },
        "id": "Ae-eM_WRVOnw",
        "outputId": "a2be7d74-7325-468b-8f25-64da4d66c804"
      },
      "execution_count": 14,
      "outputs": [
        {
          "output_type": "stream",
          "name": "stdout",
          "text": [
            "0933-333333\n"
          ]
        }
      ]
    },
    {
      "cell_type": "code",
      "source": [
        "# int()函數功能：將x(字串型態) 轉換資料型別為 int(整數型態)\n",
        "x = int( input(\"請輸入 單價 = \") )\n",
        "y = int( input(\"請輸入 數量 = \") )\n",
        "\n",
        "print(  f'小計：{ x*y } 元, 打9折：{ x*y*0.9 } 元' )\n",
        "\n",
        "\n",
        "\n",
        "# 輸入x,y 然後計算x+y等於多少\n"
      ],
      "metadata": {
        "colab": {
          "base_uri": "https://localhost:8080/"
        },
        "id": "orctIc86TUrh",
        "outputId": "9ad57693-b03b-4a2f-ab03-02c3ee9a91c4"
      },
      "execution_count": 7,
      "outputs": [
        {
          "output_type": "stream",
          "name": "stdout",
          "text": [
            "請輸入 單價 = 10\n",
            "請輸入 數量 = 25\n",
            "小計：250 元, 打9折：225.0 元\n"
          ]
        }
      ]
    },
    {
      "cell_type": "code",
      "source": [
        "# 2進位\n",
        "a = 0b101   # 5\n",
        "aa = bin(7)  # 將10進位轉成2進位：0b111\n",
        "print(a, aa)\n",
        "\n",
        "# 8進位\n",
        "o = 0o10\n",
        "oo = oct(9) # 將10進位轉成8進位：0o11\n",
        "print(o, oo)\n",
        "\n",
        "\n",
        "# 16進位\n",
        "h = 0x1A\n",
        "hh = hex(15)  # 將10進位轉成16進位：0xf\n",
        "print(h, hh)\n"
      ],
      "metadata": {
        "colab": {
          "base_uri": "https://localhost:8080/"
        },
        "id": "1AYsGrhBoI6K",
        "outputId": "764d48fa-a3cf-43aa-9bdc-7f5afb333daa"
      },
      "execution_count": 20,
      "outputs": [
        {
          "output_type": "stream",
          "name": "stdout",
          "text": [
            "5 0b111\n",
            "8 0o11\n",
            "26 0xf\n"
          ]
        }
      ]
    },
    {
      "cell_type": "code",
      "source": [
        "# a = 10\n",
        "# b = -100\n",
        "# print( abs(a))\n",
        "# print( abs(b))\n",
        "\n",
        "c = 113.34567\n",
        "d = 114.31567\n",
        "print(round(c,2))\n",
        "print(round(d,2))\n"
      ],
      "metadata": {
        "colab": {
          "base_uri": "https://localhost:8080/"
        },
        "id": "EFqZSqjCp2qI",
        "outputId": "a4368782-89e4-4dfd-fe78-ac4d63da13df"
      },
      "execution_count": 25,
      "outputs": [
        {
          "output_type": "stream",
          "name": "stdout",
          "text": [
            "113.35\n",
            "114.32\n"
          ]
        }
      ]
    },
    {
      "cell_type": "code",
      "source": [],
      "metadata": {
        "id": "0DxnhFaTs2TC"
      },
      "execution_count": null,
      "outputs": []
    },
    {
      "cell_type": "code",
      "source": [
        "a=12\n",
        "b='hello'\n",
        "c='aa\"aabbbccccdd\\'ddeeee'\n",
        "d='1.xxxxx\\n2.yyyyy\\n3.zzzzz'   # '\\n' --> new line\n",
        "f='C:\\\\Program Files\\\\Adobe\\\\....'\n",
        "\n",
        "#用連續3個雙(單)引號再跳脫符號(\\)就可以表示多行字串了\n",
        "g=\"\"\"\\\n",
        "1.xxxxxx\n",
        "2.yyyyyyy\n",
        "3.zzzzzzzz\n",
        "\"\"\"\n",
        "\n",
        "age=22\n",
        "money=2000000\n",
        "\n",
        "print(age<=20)\n",
        "print(money>=10000000)\n",
        "\n",
        "ok = (age<=20) or (money>=10000000)\n",
        "print(ok)"
      ],
      "metadata": {
        "id": "vGUJFk74TbBB"
      },
      "execution_count": null,
      "outputs": []
    },
    {
      "cell_type": "code",
      "source": [
        "x = \"   這是包含前後空白的字串   \"\n",
        "print(f\"原始字串: '{x}'\")\n",
        "x_stripped = x.strip()\n",
        "print(f\"去除空白後的字串: '{x_stripped}'\")"
      ],
      "metadata": {
        "id": "stSSFixnTY7w"
      },
      "execution_count": null,
      "outputs": []
    },
    {
      "cell_type": "code",
      "source": [
        "# # int()轉換資料型別的函數,轉成「整數」\n",
        "# x = int( input('請輸入一個數字：') )   # --> 使用者輸入的資料一律都會儲存為「文字」格式\n",
        "\n",
        "# print(x**2)\n",
        "\n",
        "name = input('請輸入你的姓名：')\n",
        "age = int(input('你幾歲？'))\n",
        "\n",
        "# 利用 F-string 來處理字串中的變數\n",
        "result1 = f'你叫{name}，你現在{age-1}歲'\n",
        "\n",
        "print(result1)"
      ],
      "metadata": {
        "id": "vNUDPsHfVSvI"
      },
      "execution_count": null,
      "outputs": []
    },
    {
      "cell_type": "code",
      "source": [
        "# print( round(25.5) )  # 四捨六入五成單\n",
        "\n",
        "# l = len('李大仁')   # len() 用來計算字串的長度\n",
        "# s = 'askdfhksahfdsdfksdfuhklsadfsfdsdfdffsdafsd'\n",
        "# print(   len(s)   )\n",
        "\n",
        "for i in ['a','b','c']:\n",
        "  print(i, end='-')\n"
      ],
      "metadata": {
        "id": "3ausItMgVUO4"
      },
      "execution_count": null,
      "outputs": []
    },
    {
      "cell_type": "code",
      "source": [
        "# print(1)\n",
        "# print(2)\n",
        "# print(3)\n",
        "# print(4)\n",
        "# print(5)\n",
        "# Ctrl + /  註解程式碼\n",
        "\n",
        "\n",
        "# for迴圈的使用\n",
        "\n",
        "# for i in range(1,5+1,2):\n",
        "#   print(i)\n",
        "#   print('-----')\n",
        "\n",
        "# print('*******************')\n",
        "\n",
        "# for x in range(5,1-1,-2):\n",
        "#   print(x)\n",
        "# print('-----')\n",
        "\n",
        "# for j in [1,3,5,8]:\n",
        "#   print(j**2)"
      ],
      "metadata": {
        "id": "lxP26L2ZVMMJ"
      },
      "execution_count": null,
      "outputs": []
    },
    {
      "cell_type": "code",
      "source": [
        "a = [11,22,33,44,55]\n",
        "print(a[0],a[2],a[4])\n",
        "\n",
        "b = '李大仁是一個大帥'\n",
        "print(b[0],b[3],b[-1])"
      ],
      "metadata": {
        "id": "Z_7kWO2TVW5Y"
      },
      "execution_count": null,
      "outputs": []
    }
  ]
}