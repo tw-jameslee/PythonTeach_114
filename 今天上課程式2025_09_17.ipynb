{
  "nbformat": 4,
  "nbformat_minor": 0,
  "metadata": {
    "colab": {
      "provenance": [],
      "authorship_tag": "ABX9TyMxxBA5Tlk7ownmC+kBTGCe",
      "include_colab_link": true
    },
    "kernelspec": {
      "name": "python3",
      "display_name": "Python 3"
    },
    "language_info": {
      "name": "python"
    }
  },
  "cells": [
    {
      "cell_type": "markdown",
      "metadata": {
        "id": "view-in-github",
        "colab_type": "text"
      },
      "source": [
        "<a href=\"https://colab.research.google.com/github/tw-jameslee/PythonTeach_114/blob/main/%E4%BB%8A%E5%A4%A9%E4%B8%8A%E8%AA%B2%E7%A8%8B%E5%BC%8F2025_09_17.ipynb\" target=\"_parent\"><img src=\"https://colab.research.google.com/assets/colab-badge.svg\" alt=\"Open In Colab\"/></a>"
      ]
    },
    {
      "cell_type": "markdown",
      "source": [
        "# 📅上課日期：2025/09/17"
      ],
      "metadata": {
        "id": "BUxsZTWJTjaR"
      }
    },
    {
      "cell_type": "code",
      "source": [
        "'''這是我程式中的註解'''\n",
        "\n",
        "# 這是我程式中的註解\n",
        "x=10\n",
        "print( \"x-->\", id(x) )\n",
        "\n",
        "y=10  # 這是我程式中的註解\n",
        "print( \"y-->\", id(y)  )\n",
        "\n",
        "print( \"-\"*25 )\n",
        "print(\"修改y的值之後\")\n",
        "y=15\n",
        "print( \"x-->\", id(x)  )\n",
        "print( \"y-->\", id(y)  )\n",
        "\n",
        "print( \"-\"*25 )\n",
        "print(\"再把y的值改回來\")\n",
        "y=10\n",
        "print( \"x-->\", id(x)  )\n",
        "print( \"y-->\", id(y)  )\n",
        "\n",
        "print( \"-\"*25 )\n",
        "print(\"如果把x的值改成15\")\n",
        "x=15\n",
        "print( \"x-->\", id(x)  )\n",
        "print( \"y-->\", id(y)  )"
      ],
      "metadata": {
        "id": "lQnEnRFfQVE4",
        "colab": {
          "base_uri": "https://localhost:8080/"
        },
        "outputId": "b1364b8b-149a-4003-94c5-bacc86cfd925"
      },
      "execution_count": null,
      "outputs": [
        {
          "output_type": "stream",
          "name": "stdout",
          "text": [
            "x--> 11642376\n",
            "y--> 11642376\n",
            "-------------------------\n",
            "修改y的值之後\n",
            "x--> 11642376\n",
            "y--> 11642536\n",
            "-------------------------\n",
            "再把y的值改回來\n",
            "x--> 11642376\n",
            "y--> 11642376\n",
            "-------------------------\n",
            "如果把x的值改成15\n",
            "x--> 11642536\n",
            "y--> 11642376\n"
          ]
        }
      ]
    },
    {
      "cell_type": "code",
      "source": [
        "# 顯示python保留字\n",
        "help(\"keywords\")"
      ],
      "metadata": {
        "colab": {
          "base_uri": "https://localhost:8080/"
        },
        "id": "FMn5VzPpd9gA",
        "outputId": "0a3a7c31-d9f3-45d4-9950-267c3c0ead91"
      },
      "execution_count": null,
      "outputs": [
        {
          "output_type": "stream",
          "name": "stdout",
          "text": [
            "\n",
            "Here is a list of the Python keywords.  Enter any keyword to get more help.\n",
            "\n",
            "False               class               from                or\n",
            "None                continue            global              pass\n",
            "True                def                 if                  raise\n",
            "and                 del                 import              return\n",
            "as                  elif                in                  try\n",
            "assert              else                is                  while\n",
            "async               except              lambda              with\n",
            "await               finally             nonlocal            yield\n",
            "break               for                 not                 \n",
            "\n"
          ]
        }
      ]
    },
    {
      "cell_type": "code",
      "source": [
        "# id=100  # 也不要使用內建函數名稱來當變數，會使原函數的功能喪失\n",
        "x = 10\n",
        "y = x * 2 + 200\n",
        "print(id(x))\n",
        "print(id(y))\n"
      ],
      "metadata": {
        "colab": {
          "base_uri": "https://localhost:8080/"
        },
        "id": "4CN2OhTtePWd",
        "outputId": "147c1d4d-db5b-47fd-c68c-d37554bd6251"
      },
      "execution_count": null,
      "outputs": [
        {
          "output_type": "stream",
          "name": "stdout",
          "text": [
            "11642376\n"
          ]
        }
      ]
    },
    {
      "cell_type": "code",
      "source": [
        "a = 4 ** 2\n",
        "print(a)\n",
        "\n",
        "b = 16 ** 1 / 2\n",
        "c = 16 ** (1 / 2)\n",
        "print(b, c)\n",
        "\n",
        "d = -1 ** 2\n",
        "e = (-1) ** 2\n",
        "print(d, e)\n"
      ],
      "metadata": {
        "colab": {
          "base_uri": "https://localhost:8080/"
        },
        "id": "yHwbGweqfKO6",
        "outputId": "13b101be-3d83-4b0e-8b07-96f4e18e39cc"
      },
      "execution_count": null,
      "outputs": [
        {
          "output_type": "stream",
          "name": "stdout",
          "text": [
            "16\n",
            "8.0 4.0\n",
            "-1 1\n"
          ]
        }
      ]
    },
    {
      "cell_type": "code",
      "source": [
        "A = 1\n",
        "B = 2\n",
        "\n",
        "# 將 A,B 變數的內容交換\n",
        "# python寫法\n",
        "A, B = B, A\n",
        "\n",
        "# 傳統寫法\n",
        "# T = A\n",
        "# A = B\n",
        "# B = T\n",
        "\n",
        "print(A, B)"
      ],
      "metadata": {
        "colab": {
          "base_uri": "https://localhost:8080/"
        },
        "id": "sQkYmbFllnh8",
        "outputId": "12ec977d-6461-4c74-a66e-98beda3231b0"
      },
      "execution_count": null,
      "outputs": [
        {
          "output_type": "stream",
          "name": "stdout",
          "text": [
            "2 1\n"
          ]
        }
      ]
    },
    {
      "cell_type": "code",
      "source": [
        "z = divmod(9, 5)\n",
        "print(z)\n",
        "\n",
        "print(type(z))  # type()函數，用來顯示資料的型別"
      ],
      "metadata": {
        "colab": {
          "base_uri": "https://localhost:8080/"
        },
        "id": "hzRMW6bLnIMJ",
        "outputId": "97df2ff2-720d-45dc-859f-301442367239"
      },
      "execution_count": null,
      "outputs": [
        {
          "output_type": "stream",
          "name": "stdout",
          "text": [
            "(1, 4)\n",
            "<class 'dict'>\n"
          ]
        }
      ]
    },
    {
      "cell_type": "code",
      "source": [
        "# 多行的程式寫在同一行，用「;」隔開\n",
        "x = 1; y = 2\n",
        "print(x, y)"
      ],
      "metadata": {
        "colab": {
          "base_uri": "https://localhost:8080/"
        },
        "id": "oHMfXuczpCeQ",
        "outputId": "e5cae636-e246-451d-b5c9-c58db6ed566c"
      },
      "execution_count": null,
      "outputs": [
        {
          "output_type": "stream",
          "name": "stdout",
          "text": [
            "1 2\n"
          ]
        }
      ]
    }
  ]
}