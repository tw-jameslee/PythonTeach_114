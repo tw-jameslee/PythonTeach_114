{
  "nbformat": 4,
  "nbformat_minor": 0,
  "metadata": {
    "colab": {
      "provenance": [],
      "authorship_tag": "ABX9TyN5D4Ykv1D1Sysu4cpc7EZ2",
      "include_colab_link": true
    },
    "kernelspec": {
      "name": "python3",
      "display_name": "Python 3"
    },
    "language_info": {
      "name": "python"
    }
  },
  "cells": [
    {
      "cell_type": "markdown",
      "metadata": {
        "id": "view-in-github",
        "colab_type": "text"
      },
      "source": [
        "<a href=\"https://colab.research.google.com/github/tw-jameslee/PythonTeach_114/blob/main/%E4%BB%8A%E5%A4%A9%E4%B8%8A%E8%AA%B2%E7%A8%8B%E5%BC%8F2025_10_08.ipynb\" target=\"_parent\"><img src=\"https://colab.research.google.com/assets/colab-badge.svg\" alt=\"Open In Colab\"/></a>"
      ]
    },
    {
      "cell_type": "markdown",
      "source": [
        "# 📅上課日期：2025/10/08"
      ],
      "metadata": {
        "id": "BUxsZTWJTjaR"
      }
    },
    {
      "cell_type": "markdown",
      "source": [
        "## range(start, stop[, step])\n",
        "\n",
        "| 參數說明 |  |\n",
        "| ----- | --------------------------------------- |\n",
        "|start\t| 計數從start為序列的起始值(含)或者是從0開始 |\n",
        "|       |例如: range(10) == range(0, 10) |\n",
        "|stop\t  |計數到end結束，但不會包括end |\n",
        "|       |例如: range(0, 10), 印出來即將是 [0，1，2，3，4，5，6，7，8，9] 沒有10 |\n",
        "|step\t  | 遞增值(步長), 最小為1 |\n",
        "|       |例如: range(0, 5)== range(0, 5, 1)|"
      ],
      "metadata": {
        "id": "ToYiucDq2LZ5"
      }
    },
    {
      "cell_type": "code",
      "source": [
        "# for i in [0,1,2,3]:\n",
        "#   print(i)\n",
        "\n",
        "# 陣列arrray   清單list\n",
        "# data = [ [1,11,111], [2,22,222], [3,33,333] ]\n",
        "# for i in data:\n",
        "#   print(i)\n",
        "\n",
        "x = range(10)   #[1, 2, 3, 4, 5, 6, 7, 8, 9]\n",
        "for i in x:\n",
        "  print(i)\n"
      ],
      "metadata": {
        "id": "dfHkZY60drR5",
        "colab": {
          "base_uri": "https://localhost:8080/"
        },
        "outputId": "5f312d7e-79ad-4b64-bb7f-2d7c806f8c5c"
      },
      "execution_count": 22,
      "outputs": [
        {
          "output_type": "stream",
          "name": "stdout",
          "text": [
            "0\n",
            "1\n",
            "2\n",
            "3\n",
            "4\n",
            "5\n",
            "6\n",
            "7\n",
            "8\n",
            "9\n"
          ]
        }
      ]
    },
    {
      "cell_type": "code",
      "source": [
        "a = [1,2,3]\n",
        "b = [2*i for i in range(1,4)]\n",
        "print(a)\n",
        "print(b)"
      ],
      "metadata": {
        "colab": {
          "base_uri": "https://localhost:8080/"
        },
        "id": "_JHd1a6q24rf",
        "outputId": "2ca685cd-8d95-47c0-b3a7-5cce11ecb7ec"
      },
      "execution_count": 65,
      "outputs": [
        {
          "output_type": "stream",
          "name": "stdout",
          "text": [
            "[1, 2, 3]\n",
            "[2, 4, 6]\n"
          ]
        }
      ]
    },
    {
      "cell_type": "code",
      "source": [
        "s = \"|\".join(['aaa','bbb','ccc'])  # join() 把 list 內的元素「接」在一起，並以\"|\"號分隔\n",
        "print(s)\n",
        "\n",
        "print('--------------')\n",
        "\n",
        "x = 3\n",
        "a = f'|{x:>3}|' # 靠右\n",
        "b = f'|{x:<3}|' # 靠左\n",
        "c = f'|{x:^3}|' # 置中\n",
        "print(a)\n",
        "print(b)\n",
        "print(c)"
      ],
      "metadata": {
        "colab": {
          "base_uri": "https://localhost:8080/"
        },
        "id": "MgEtgFLO3Evp",
        "outputId": "405e71bd-c30f-4928-8b81-3f39bfb9d6f7"
      },
      "execution_count": 70,
      "outputs": [
        {
          "output_type": "stream",
          "name": "stdout",
          "text": [
            "aaa | bbb | ccc\n",
            "--------------\n",
            "|  3|\n",
            "|3  |\n",
            "| 3 |\n"
          ]
        }
      ]
    },
    {
      "cell_type": "code",
      "source": [
        "s=0\n",
        "n=int(input('請輸入一個整數：'))\n",
        "\n",
        "# for a in [1,2,3,4,5,6,7,8,9,10]:\n",
        "for a in range(1,n+1,1):  # range(1,n+1,1)--> [1,2,3,...,n] 很像是 list\n",
        "  s=s+a\n",
        "\n",
        "print(f'結果：1+2+3+...+{n}={s}')"
      ],
      "metadata": {
        "colab": {
          "base_uri": "https://localhost:8080/"
        },
        "id": "12WiEYO_2Tui",
        "outputId": "7877cf97-9c35-42a1-dd1f-fc6fcb47264d"
      },
      "execution_count": 62,
      "outputs": [
        {
          "output_type": "stream",
          "name": "stdout",
          "text": [
            "請輸入一個整數：10\n",
            "結果：1+2+3+...+10=55\n"
          ]
        }
      ]
    },
    {
      "cell_type": "code",
      "source": [
        "s=0\n",
        "n=int(input('請輸入一個整數：'))\n",
        "\n",
        "# for a in [1,3,5,7,9]:\n",
        "for a in range(1,n+1,2):  # range(1,n,2)--> [1,3,5,...,n] 很像是 list\n",
        "  s=s+a\n",
        "\n",
        "print(f'結果：1+3+5+...+{n}={s}')\n"
      ],
      "metadata": {
        "colab": {
          "base_uri": "https://localhost:8080/"
        },
        "id": "ahRAWYJ32cDS",
        "outputId": "1f32c1cf-87fe-401c-c5e5-d45e89c6e873"
      },
      "execution_count": 64,
      "outputs": [
        {
          "output_type": "stream",
          "name": "stdout",
          "text": [
            "請輸入一個整數：9\n",
            "結果：1+3+5+...+9=25\n"
          ]
        }
      ]
    },
    {
      "cell_type": "code",
      "source": [
        "# 印出資料的分隔參數sep設定\n",
        "# print('aaaaa', 'bbbbb', 'ccccc', sep=' --> ')\n",
        "# print('a','b','c','d', sep='\\t')  # 以「Tab字元」分隔\n",
        "# print('aaa','bb','ccccc','dd', sep='\\t')\n",
        "# print('x','y','z', sep='\\n')      # 以「換行字元」分隔\n",
        "\n",
        "print('aaaaa')  # 相當於 print('aaaaa', end='\\n')\n",
        "print('bbbbb','cccccc', end=' ')  #印完 bbbbb cccccc 之後不換行，只空一個空格\n",
        "print('ccccc', end=' ')\n",
        "print('ddddd')\n",
        "print('eeeee')"
      ],
      "metadata": {
        "colab": {
          "base_uri": "https://localhost:8080/"
        },
        "id": "kwrvyyz_w2Yh",
        "outputId": "49771d7c-6d32-46e5-e83f-d3da3b899866"
      },
      "execution_count": null,
      "outputs": [
        {
          "output_type": "stream",
          "name": "stdout",
          "text": [
            "aaaaa\n",
            "bbbbb cccccc ccccc ddddd\n",
            "eeeee\n"
          ]
        }
      ]
    },
    {
      "cell_type": "code",
      "source": [
        "print('[', end=\"\")\n",
        "print(123,111,222, sep=\"]-----[\" , end=\"]\\n\")\n",
        "print(456)"
      ],
      "metadata": {
        "colab": {
          "base_uri": "https://localhost:8080/"
        },
        "id": "CL2i-r4N2DT2",
        "outputId": "e4f0aeb4-d16b-41ce-9e3d-400b7061833a"
      },
      "execution_count": 63,
      "outputs": [
        {
          "output_type": "stream",
          "name": "stdout",
          "text": [
            "[123]-----[111]-----[222]\n",
            "456\n"
          ]
        }
      ]
    },
    {
      "cell_type": "code",
      "source": [
        "for n in range(1,5+1):\n",
        "  for i in range(n):\n",
        "    print('*', end=\"\")\n",
        "  print(\"\")\n",
        "\n",
        "\n",
        "# print('------------------')\n",
        "\n",
        "# for i in range(1):\n",
        "#   print('*', end=\"\")\n",
        "# print(\"\")\n",
        "\n",
        "# for i in range(2):\n",
        "#   print('*', end=\"\")\n",
        "# print(\"\")\n",
        "\n",
        "# for i in range(3):\n",
        "#   print('*', end=\"\")\n",
        "# print(\"\")\n",
        "\n",
        "# for i in range(4):\n",
        "#   print('*', end=\"\")\n",
        "# print(\"\")\n",
        "\n",
        "# for i in range(5):\n",
        "#   print('*', end=\"\")\n"
      ],
      "metadata": {
        "colab": {
          "base_uri": "https://localhost:8080/"
        },
        "id": "icMJhntNva0R",
        "outputId": "21fe335d-f4d7-4456-efb5-e972d8f92864"
      },
      "execution_count": 50,
      "outputs": [
        {
          "output_type": "stream",
          "name": "stdout",
          "text": [
            "*\n",
            "**\n",
            "***\n",
            "****\n",
            "*****\n"
          ]
        }
      ]
    },
    {
      "cell_type": "code",
      "source": [
        "for i in range(1,9+1):\n",
        "  # print(f'i={i}', end=' --> ')\n",
        "\n",
        "  for j in range(1,i+1):\n",
        "    print(\"*\", end='')\n",
        "\n",
        "  print('') # 因為上面print()都不換行，這裡要換行"
      ],
      "metadata": {
        "colab": {
          "base_uri": "https://localhost:8080/"
        },
        "id": "GB3sMTJ3xXnY",
        "outputId": "f74bb826-86fa-439c-ea1d-5c5d9d60a1fa"
      },
      "execution_count": null,
      "outputs": [
        {
          "output_type": "stream",
          "name": "stdout",
          "text": [
            "*\n",
            "**\n",
            "***\n",
            "****\n",
            "*****\n",
            "******\n",
            "*******\n",
            "********\n",
            "*********\n"
          ]
        }
      ]
    },
    {
      "cell_type": "code",
      "source": [
        "n = int(input('請輸入一個整數：'))\n",
        "\n",
        "for i in range(1,n+1):\n",
        "  s = '*' * i\n",
        "  print(s)"
      ],
      "metadata": {
        "colab": {
          "base_uri": "https://localhost:8080/"
        },
        "id": "DNzw1RAExce_",
        "outputId": "e3d654a6-6c79-4439-fe7f-a0bd95bd5abb"
      },
      "execution_count": 57,
      "outputs": [
        {
          "output_type": "stream",
          "name": "stdout",
          "text": [
            "請輸入一個整數：10\n",
            "*\n",
            "**\n",
            "***\n",
            "****\n",
            "*****\n",
            "******\n",
            "*******\n",
            "********\n",
            "*********\n",
            "**********\n"
          ]
        }
      ]
    },
    {
      "cell_type": "code",
      "source": [
        "n = int(input('請輸入一個整數：'))\n",
        "\n",
        "for i in range(1,n+1):\n",
        "  p = ' ' * (n-i)\n",
        "  s = '*' * i\n",
        "  t = p + s\n",
        "  print(t)"
      ],
      "metadata": {
        "colab": {
          "base_uri": "https://localhost:8080/"
        },
        "id": "YrWzoya1xfpf",
        "outputId": "2d217eda-26bd-43a4-a59d-ba7480b3feb1"
      },
      "execution_count": 58,
      "outputs": [
        {
          "output_type": "stream",
          "name": "stdout",
          "text": [
            "請輸入一個整數：10\n",
            "         *\n",
            "        **\n",
            "       ***\n",
            "      ****\n",
            "     *****\n",
            "    ******\n",
            "   *******\n",
            "  ********\n",
            " *********\n",
            "**********\n"
          ]
        }
      ]
    },
    {
      "cell_type": "code",
      "source": [
        "for i in range(1,9+1):\n",
        "  # print(f'i={i}', end=' --> ')\n",
        "\n",
        "  for j in range(1,9+1):\n",
        "    print(f'{j}*{i}={j*i}', end='\\t')\n",
        "\n",
        "  print('')"
      ],
      "metadata": {
        "id": "I_AtLV0Axkq8",
        "outputId": "dd3b6e41-e46a-4c53-8954-ed3cfce746ad",
        "colab": {
          "base_uri": "https://localhost:8080/"
        }
      },
      "execution_count": 60,
      "outputs": [
        {
          "output_type": "stream",
          "name": "stdout",
          "text": [
            "1*1=1\t2*1=2\t3*1=3\t4*1=4\t5*1=5\t6*1=6\t7*1=7\t8*1=8\t9*1=9\t\n",
            "1*2=2\t2*2=4\t3*2=6\t4*2=8\t5*2=10\t6*2=12\t7*2=14\t8*2=16\t9*2=18\t\n",
            "1*3=3\t2*3=6\t3*3=9\t4*3=12\t5*3=15\t6*3=18\t7*3=21\t8*3=24\t9*3=27\t\n",
            "1*4=4\t2*4=8\t3*4=12\t4*4=16\t5*4=20\t6*4=24\t7*4=28\t8*4=32\t9*4=36\t\n",
            "1*5=5\t2*5=10\t3*5=15\t4*5=20\t5*5=25\t6*5=30\t7*5=35\t8*5=40\t9*5=45\t\n",
            "1*6=6\t2*6=12\t3*6=18\t4*6=24\t5*6=30\t6*6=36\t7*6=42\t8*6=48\t9*6=54\t\n",
            "1*7=7\t2*7=14\t3*7=21\t4*7=28\t5*7=35\t6*7=42\t7*7=49\t8*7=56\t9*7=63\t\n",
            "1*8=8\t2*8=16\t3*8=24\t4*8=32\t5*8=40\t6*8=48\t7*8=56\t8*8=64\t9*8=72\t\n",
            "1*9=9\t2*9=18\t3*9=27\t4*9=36\t5*9=45\t6*9=54\t7*9=63\t8*9=72\t9*9=81\t\n"
          ]
        }
      ]
    },
    {
      "cell_type": "markdown",
      "source": [
        "---\n",
        "## 奇幻的九九乘法表"
      ],
      "metadata": {
        "id": "-kzdQ5Nm15ON"
      }
    },
    {
      "cell_type": "code",
      "source": [
        "print(' * |' + ''.join([ f'{n:>4}' for n in range(1,9+1) ] ))\n",
        "print('---+' + '-'*40)\n",
        "\n",
        "for y in range(1,9+1):\n",
        "  print(f' {y} |', end='')\n",
        "\n",
        "  for x in range(1,9+1):\n",
        "    print(f'{y*x:>4}', end='')\n",
        "\n",
        "  print('')"
      ],
      "metadata": {
        "colab": {
          "base_uri": "https://localhost:8080/"
        },
        "id": "H7CA4qcr16xW",
        "outputId": "57ecb44e-a10c-411d-8c5b-f5c384e77655"
      },
      "execution_count": 61,
      "outputs": [
        {
          "output_type": "stream",
          "name": "stdout",
          "text": [
            " * |   1   2   3   4   5   6   7   8   9\n",
            "---+----------------------------------------\n",
            " 1 |   1   2   3   4   5   6   7   8   9\n",
            " 2 |   2   4   6   8  10  12  14  16  18\n",
            " 3 |   3   6   9  12  15  18  21  24  27\n",
            " 4 |   4   8  12  16  20  24  28  32  36\n",
            " 5 |   5  10  15  20  25  30  35  40  45\n",
            " 6 |   6  12  18  24  30  36  42  48  54\n",
            " 7 |   7  14  21  28  35  42  49  56  63\n",
            " 8 |   8  16  24  32  40  48  56  64  72\n",
            " 9 |   9  18  27  36  45  54  63  72  81\n"
          ]
        }
      ]
    }
  ]
}