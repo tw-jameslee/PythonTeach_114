{
  "nbformat": 4,
  "nbformat_minor": 0,
  "metadata": {
    "colab": {
      "provenance": [],
      "authorship_tag": "ABX9TyMOgrnHmj2x3wRNE475+fO2",
      "include_colab_link": true
    },
    "kernelspec": {
      "name": "python3",
      "display_name": "Python 3"
    },
    "language_info": {
      "name": "python"
    }
  },
  "cells": [
    {
      "cell_type": "markdown",
      "metadata": {
        "id": "view-in-github",
        "colab_type": "text"
      },
      "source": [
        "<a href=\"https://colab.research.google.com/github/tw-jameslee/PythonTeach_114/blob/main/%E4%BB%8A%E5%A4%A9%E4%B8%8A%E8%AA%B2%E7%A8%8B%E5%BC%8F2025_09_03.ipynb\" target=\"_parent\"><img src=\"https://colab.research.google.com/assets/colab-badge.svg\" alt=\"Open In Colab\"/></a>"
      ]
    },
    {
      "cell_type": "markdown",
      "source": [
        "## 📅 上課日期：2025/09/03\n",
        "# 這是我的第一支python程式"
      ],
      "metadata": {
        "id": "dpg_MGZG3hz1"
      }
    },
    {
      "cell_type": "code",
      "execution_count": null,
      "metadata": {
        "colab": {
          "base_uri": "https://localhost:8080/"
        },
        "id": "GtCDBwkc2Kw_",
        "outputId": "9a6d693e-536e-4c5c-81a9-d7404357aa09"
      },
      "outputs": [
        {
          "output_type": "stream",
          "name": "stdout",
          "text": [
            "Hello World!!!\n",
            "我愛Python...\n",
            "3000\n"
          ]
        }
      ],
      "source": [
        "print('Hello World!!!')\n",
        "print('我愛Python...')\n",
        "print(1000+2000)\n"
      ]
    },
    {
      "cell_type": "markdown",
      "source": [
        "---\n",
        "## 📅 上課日期：2023/09/06\n",
        "# 運算子"
      ],
      "metadata": {
        "id": "JjG2fOJRA0D3"
      }
    },
    {
      "cell_type": "code",
      "source": [
        "print(9 // 5)   # 求商\n",
        "print(9 % 5)    # 求餘數\n",
        "print(3**2)     # 次方"
      ],
      "metadata": {
        "id": "IscaKBL66czR",
        "colab": {
          "base_uri": "https://localhost:8080/"
        },
        "outputId": "6a3e0869-1ad9-4a26-dbf0-bb003f7628fd"
      },
      "execution_count": null,
      "outputs": [
        {
          "output_type": "stream",
          "name": "stdout",
          "text": [
            "1\n",
            "4\n",
            "9\n"
          ]
        }
      ]
    },
    {
      "cell_type": "code",
      "source": [
        "print(20>10)\n",
        "print(10>=10)\n",
        "print(23==23)\n",
        "print(32!=23)\n",
        "print(100==100.0)\n",
        "print(1/3==0.333333333333333)\n",
        "\n",
        "print('abc'=='ABC')\n",
        "print('李大仁'=='李大仁')\n",
        "print('abc'>'BBC')\n"
      ],
      "metadata": {
        "colab": {
          "base_uri": "https://localhost:8080/"
        },
        "id": "7Sy8xg9_wrDU",
        "outputId": "1e9701db-cf5a-48b4-f77c-652e7301b67b"
      },
      "execution_count": null,
      "outputs": [
        {
          "output_type": "stream",
          "name": "stdout",
          "text": [
            "True\n",
            "True\n",
            "True\n",
            "True\n",
            "True\n",
            "False\n",
            "False\n",
            "True\n",
            "True\n"
          ]
        }
      ]
    },
    {
      "cell_type": "code",
      "source": [
        "a=12\n",
        "b='hello'\n",
        "c='aa\"aabbbccccdd\\'ddeeee'\n",
        "d='1.xxxxx\\n2.yyyyy\\n3.zzzzz'   # '\\n' --> new line\n",
        "f='C:\\\\Program Files\\\\Adobe\\\\....'\n",
        "\n",
        "#用連續3個雙(單)引號再跳脫符號(\\)就可以表示多行字串了\n",
        "g=\"\"\"\\\n",
        "1.xxxxxx\n",
        "2.yyyyyyy\n",
        "3.zzzzzzzz\n",
        "\"\"\"\n",
        "\n",
        "age=19\n",
        "money=2000000\n",
        "\n",
        "print(age<=20)\n",
        "print(money>=10000000)\n",
        "\n",
        "ok = (age<=20) or (money>=10000000)\n",
        "print(ok)"
      ],
      "metadata": {
        "colab": {
          "base_uri": "https://localhost:8080/"
        },
        "id": "mqAp6ren2IBr",
        "outputId": "31109fb4-cde4-45c6-d4cb-611dfc647165"
      },
      "execution_count": null,
      "outputs": [
        {
          "output_type": "stream",
          "name": "stdout",
          "text": [
            "True\n",
            "False\n",
            "True\n"
          ]
        }
      ]
    },
    {
      "cell_type": "code",
      "source": [
        "print( ord('A') )  # ord( )求某「字元」的「ascii 碼」\n",
        "# --> 65\n",
        "\n",
        "print( chr(97) )  # chr( ) 求某「ascii碼」所代表的「字元」\n",
        "# --> 'a'"
      ],
      "metadata": {
        "colab": {
          "base_uri": "https://localhost:8080/"
        },
        "id": "99MAMzxh0qVB",
        "outputId": "6f069d0c-8d8f-4d37-a9e5-d8f192649d8d"
      },
      "execution_count": null,
      "outputs": [
        {
          "output_type": "stream",
          "name": "stdout",
          "text": [
            "65\n",
            "A\n"
          ]
        }
      ]
    }
  ]
}