{
  "nbformat": 4,
  "nbformat_minor": 0,
  "metadata": {
    "colab": {
      "provenance": [],
      "authorship_tag": "ABX9TyNMaXeUoBNe/xsNLsoPA/Fp",
      "include_colab_link": true
    },
    "kernelspec": {
      "name": "python3",
      "display_name": "Python 3"
    },
    "language_info": {
      "name": "python"
    }
  },
  "cells": [
    {
      "cell_type": "markdown",
      "metadata": {
        "id": "view-in-github",
        "colab_type": "text"
      },
      "source": [
        "<a href=\"https://colab.research.google.com/github/tw-jameslee/PythonTeach_114/blob/main/%E4%BB%8A%E5%A4%A9%E4%B8%8A%E8%AA%B2%E7%A8%8B%E5%BC%8F2025_09_10.ipynb\" target=\"_parent\"><img src=\"https://colab.research.google.com/assets/colab-badge.svg\" alt=\"Open In Colab\"/></a>"
      ]
    },
    {
      "cell_type": "markdown",
      "source": [
        "📅上課日期：2025/09/10\n",
        "# 這是我的第一支python程式:"
      ],
      "metadata": {
        "id": "BUxsZTWJTjaR"
      }
    },
    {
      "cell_type": "code",
      "execution_count": null,
      "metadata": {
        "id": "xL9k_FceR2Sy"
      },
      "outputs": [],
      "source": [
        "x=1"
      ]
    },
    {
      "cell_type": "code",
      "source": [
        "y = x*2\n",
        "z = x+y\n",
        "t = 1\n",
        "T = 2"
      ],
      "metadata": {
        "id": "lV4ADlj4U1cd"
      },
      "execution_count": null,
      "outputs": []
    },
    {
      "cell_type": "code",
      "source": [
        "print(t, T)\n"
      ],
      "metadata": {
        "colab": {
          "base_uri": "https://localhost:8080/"
        },
        "id": "WNkx2jpUcUFf",
        "outputId": "820fc878-b063-4e8b-e696-c7a947880c9c"
      },
      "execution_count": null,
      "outputs": [
        {
          "output_type": "stream",
          "name": "stdout",
          "text": [
            "1 2\n"
          ]
        }
      ]
    },
    {
      "cell_type": "code",
      "source": [
        "# 已完成 = True\n",
        "# print(已完成)\n",
        "\n",
        "A=5\n",
        "B= ( (A+3) < 10 )\n",
        "print(B)"
      ],
      "metadata": {
        "colab": {
          "base_uri": "https://localhost:8080/"
        },
        "id": "80xlLALMhgqv",
        "outputId": "6db3ba10-3695-4e06-edbe-32d5b2232be4"
      },
      "execution_count": null,
      "outputs": [
        {
          "output_type": "stream",
          "name": "stdout",
          "text": [
            "True\n"
          ]
        }
      ]
    },
    {
      "cell_type": "code",
      "source": [
        "print(9 // 5)   # 求商\n",
        "print(9 % 5)    # 求餘數\n",
        "print(3**2)     # 次方"
      ],
      "metadata": {
        "id": "y2hVrYgal_Fx"
      },
      "execution_count": null,
      "outputs": []
    }
  ]
}